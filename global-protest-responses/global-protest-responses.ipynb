{
 "cells": [
  {
   "cell_type": "markdown",
   "metadata": {},
   "source": [
    "# Data Science with Protests\n",
    "\n",
    "In modern democracies, protests are seen as a healthy and necessary political act to secure freedom and justice against political powers. Most liberal democracies offer protections for protestors and significant media coverage is often given to large protests.\n",
    "\n",
    "How states should respond to protests is a very contreversial topic however, especially when violence is involved. State violence against protesters "
   ]
  },
  {
   "cell_type": "markdown",
   "metadata": {},
   "source": [
    "## Data Collection"
   ]
  },
  {
   "cell_type": "code",
   "execution_count": null,
   "metadata": {},
   "outputs": [],
   "source": []
  }
 ],
 "metadata": {
  "language_info": {
   "name": "python"
  },
  "orig_nbformat": 4
 },
 "nbformat": 4,
 "nbformat_minor": 2
}
